{
  "nbformat": 4,
  "nbformat_minor": 0,
  "metadata": {
    "colab": {
      "provenance": []
    },
    "kernelspec": {
      "name": "python3",
      "display_name": "Python 3"
    },
    "language_info": {
      "name": "python"
    }
  },
  "cells": [
    {
      "cell_type": "code",
      "execution_count": null,
      "metadata": {
        "id": "UOpec2UK38rJ"
      },
      "outputs": [],
      "source": [
        "# Django\n",
        "\n",
        "## 0. setting\n",
        "\n",
        "- `.gitignore`\n",
        "    - Windows, Python, macOS, Django\n",
        "- 가상환경\n",
        "    - python -m venv venv\n",
        "- `README.md`\n",
        "\n",
        "## 1. Django 프로젝트\n",
        "\n",
        "1. Django 설치\n",
        "```shell\n",
        "pip install django\n",
        "```\n",
        "\n",
        "2. Django 프로젝트 생성\n",
        "```shell (터미널 창에 쓰는 문법)\n",
        "django-admin startproject 프로젝트명 .\n",
        "```\n",
        "\n",
        "3. 서버 실행 (종료 : `ctrl + c`)\n",
        "```shell\n",
        "python manage.py runserver\n",
        "```\n",
        "\n",
        "4. 앱 생성\n",
        "```shell\n",
        "django-admin startapp <app-name>\n",
        "```\n",
        "\n",
        "5. 앱 등록(`settings.py`)\n",
        "```python\n",
        "INSTALLED_APPS = [\n",
        "    ...,\n",
        "    '<app-name>',\n",
        "]\n",
        "```\n",
        "\n",
        "6. 프로젝트 폴더 url.py\n",
        "어떤 경로로 요청을 받을지 = path('기능이름', 실행시키고싶은 함수 불러오기) *선언은 views.py에서.\n",
        "\n",
        "7. views.py\n",
        "def 함수이름(request): 함수 설정\n",
        "\n",
        "8. templates\n",
        "만든 함수가 출력되기 위한 html을 templates에 새 파일로 작성"
      ]
    },
    {
      "cell_type": "code",
      "source": [
        "## 동적 데이터 만들기\n",
        "render()\n",
        ": request, html문서 이름, context=None\n",
        "# context는 dict 구조로 바꿔줘야함\n",
        "# dict 구조로 만들고 return 값 render 함수 세번째 인자에 context 작성"
      ],
      "metadata": {
        "id": "-YqtvmV98_yH"
      },
      "execution_count": null,
      "outputs": []
    },
    {
      "cell_type": "code",
      "source": [],
      "metadata": {
        "id": "PSdbC_xy_K4b"
      },
      "execution_count": null,
      "outputs": []
    }
  ]
}